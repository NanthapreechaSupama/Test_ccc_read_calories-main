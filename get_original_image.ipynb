{
 "cells": [
  {
   "cell_type": "code",
   "execution_count": 1,
   "metadata": {},
   "outputs": [],
   "source": [
    "import time\n",
    "import cv2\n",
    "import requests\n",
    "import numpy as np\n",
    "import mysql.connector"
   ]
  },
  {
   "cell_type": "code",
   "execution_count": 2,
   "metadata": {},
   "outputs": [
    {
     "name": "stdout",
     "output_type": "stream",
     "text": [
      "<mysql.connector.connection_cext.CMySQLConnection object at 0x000001288A7C2100>\n"
     ]
    }
   ],
   "source": [
    "mydb = mysql.connector.connect(\n",
    "    host=\"209.15.113.245\",\n",
    "    user=\"tma\",\n",
    "    password=\"Amazon1234!\",\n",
    "    database=\"calories\"\n",
    ")\n",
    "\n",
    "print(mydb)"
   ]
  },
  {
   "cell_type": "code",
   "execution_count": 3,
   "metadata": {},
   "outputs": [
    {
     "name": "stdout",
     "output_type": "stream",
     "text": [
      "('N', Decimal('67248'), Decimal('55672'), 122920)\n"
     ]
    }
   ],
   "source": [
    "mycursor = mydb.cursor()\n",
    "mycursor.execute(\"\"\"\n",
    "    SELECT ip.is_ok,sum(case when cc.cal_img like 'https://caloriescredit.tmadigital.com/uploads/calories_img/%' then 1 else 0 end) as tma, \n",
    "        sum(case when cc.cal_img like 'https://ccc.mots.go.th/uploads/calories_img/%' then 1 else 0 end) as ccc,\n",
    "        count(*) as total \n",
    "    FROM image_process ip\n",
    "    INNER JOIN cal_customer_send_activity_detail cc ON ip.cs_id=cc.cs_id\n",
    "    WHERE ip.cs_id>0\n",
    "\"\"\")\n",
    "myresult = mycursor.fetchall()\n",
    "for x in myresult:\n",
    "    print(x)"
   ]
  },
  {
   "cell_type": "code",
   "execution_count": 4,
   "metadata": {},
   "outputs": [],
   "source": [
    "sql = \"\"\"\n",
    "    SELECT ip.is_ok,ip.filename,cc.cal_img\n",
    "    FROM image_process ip\n",
    "    INNER JOIN cal_customer_send_activity_detail cc ON ip.cs_id=cc.cs_id\n",
    "    WHERE ip.cs_id>0\n",
    "\"\"\"\n",
    "mycursor.execute(sql)\n",
    "myresult = mycursor.fetchall()"
   ]
  },
  {
   "cell_type": "code",
   "execution_count": 5,
   "metadata": {},
   "outputs": [
    {
     "name": "stdout",
     "output_type": "stream",
     "text": [
      "506.11470222473145 1229 1.0  %\n",
      "962.1564629077911 2458 2.0  %\n",
      "1435.807678937912 3687 3.0  %\n",
      "1929.1048634052277 4916 4.0  %\n",
      "2434.8534874916077 6145 5.0  %\n",
      "2912.481116294861 7374 6.0  %\n",
      "3377.582647562027 8603 7.0  %\n",
      "3948.533190727234 9832 8.0  %\n",
      "4444.066801071167 11061 9.0  %\n",
      "4894.031825065613 12290 10.0  %\n",
      "5361.149015665054 13519 11.0  %\n",
      "5817.077682256699 14748 12.0  %\n",
      "6254.291835784912 15977 13.0  %\n",
      "6718.022274971008 17206 14.0  %\n",
      "7143.26136803627 18435 15.0  %\n",
      "7581.395507574081 19664 16.0  %\n",
      "8046.870568037033 20893 17.0  %\n",
      "8461.345195531845 22122 18.0  %\n",
      "8892.709111690521 23351 19.0  %\n",
      "9325.019153356552 24580 20.0  %\n",
      "9729.377745389938 25809 21.0  %\n",
      "10130.087455034256 27038 22.0  %\n",
      "10532.993504524231 28267 23.0  %\n",
      "10939.12273645401 29496 24.0  %\n",
      "11336.09510564804 30725 25.0  %\n",
      "11719.197799444199 31954 26.0  %\n",
      "12133.4552693367 33183 27.0  %\n",
      "12531.723257780075 34412 28.0  %\n",
      "12923.305872440338 35641 29.0  %\n",
      "13308.424251794815 36870 30.0  %\n",
      "13700.931725025177 38099 31.0  %\n",
      "14093.307103157043 39328 32.0  %\n",
      "14482.17439699173 40557 33.0  %\n",
      "14862.06327843666 41786 34.0  %\n",
      "15248.303878545761 43015 35.0  %\n",
      "15639.695748567581 44244 36.0  %\n",
      "16030.745105266571 45473 37.0  %\n",
      "16417.725338935852 46702 38.0  %\n",
      "16811.3029692173 47931 39.0  %\n",
      "17205.17159843445 49160 40.0  %\n",
      "17597.498060703278 50389 41.0  %\n",
      "17984.395077943802 51618 42.0  %\n",
      "18372.36726307869 52847 43.0  %\n",
      "18765.073849916458 54076 44.0  %\n",
      "19156.11124420166 55305 45.0  %\n",
      "19542.20423769951 56534 46.0  %\n",
      "19932.662489891052 57763 47.0  %\n",
      "20323.659913778305 58992 48.0  %\n",
      "20735.410503149033 60221 49.0  %\n",
      "21125.380729436874 61450 50.0  %\n",
      "21510.487153291702 62679 51.0  %\n",
      "21906.51291036606 63908 52.0  %\n",
      "22300.548068523407 65137 53.0  %\n",
      "22707.722228765488 66366 54.0  %\n",
      "23103.705147981644 67595 55.0  %\n",
      "23501.435648202896 68824 56.0  %\n",
      "23885.11491703987 70053 57.0  %\n",
      "24277.083082675934 71282 58.0  %\n",
      "24682.73193502426 72511 59.0  %\n",
      "25088.163378238678 73740 60.0  %\n",
      "25476.279291391373 74969 61.0  %\n",
      "25868.86846089363 76198 62.0  %\n",
      "26248.369515895844 77427 63.0  %\n",
      "26636.005438566208 78656 64.0  %\n",
      "27029.41589474678 79885 65.0  %\n",
      "27421.06045937538 81114 66.0  %\n",
      "27801.217861652374 82343 67.0  %\n",
      "28204.431718826294 83572 68.0  %\n",
      "28538.084723949432 84801 69.0  %\n",
      "28842.71726846695 86030 70.0  %\n",
      "29129.63426232338 87259 71.0  %\n",
      "29395.904943227768 88488 72.0  %\n",
      "29656.006327152252 89717 73.0  %\n",
      "29909.990975141525 90946 74.0  %\n",
      "exception: HTTPSConnectionPool(host='ccc.mots.go.th', port=443): Max retries exceeded with url: /uploads/calories_img/cal-658bfbe668d97.jpeg (Caused by NewConnectionError('<urllib3.connection.HTTPSConnection object at 0x00000128983BE6D0>: Failed to establish a new connection: [WinError 10060] A connection attempt failed because the connected party did not properly respond after a period of time, or established connection failed because connected host has failed to respond')) N\n",
      "30186.89530968666 92175 75.0  %\n",
      "exception: HTTPSConnectionPool(host='ccc.mots.go.th', port=443): Max retries exceeded with url: /uploads/calories_img/cal-658d66ba95234.jpeg (Caused by NewConnectionError('<urllib3.connection.HTTPSConnection object at 0x00000128983BEDC0>: Failed to establish a new connection: [WinError 10060] A connection attempt failed because the connected party did not properly respond after a period of time, or established connection failed because connected host has failed to respond')) Y\n",
      "30461.972078323364 93404 76.0  %\n",
      "exception: HTTPSConnectionPool(host='ccc.mots.go.th', port=443): Max retries exceeded with url: /uploads/calories_img/cal-658f63bd299cb.jpeg (Caused by NewConnectionError('<urllib3.connection.HTTPSConnection object at 0x000001289837E580>: Failed to establish a new connection: [WinError 10060] A connection attempt failed because the connected party did not properly respond after a period of time, or established connection failed because connected host has failed to respond')) Y\n",
      "30731.03746533394 94633 77.0  %\n",
      "30972.504905462265 95862 78.0  %\n",
      "exception: HTTPSConnectionPool(host='ccc.mots.go.th', port=443): Max retries exceeded with url: /uploads/calories_img/cal-65920100df931.jpeg (Caused by NewConnectionError('<urllib3.connection.HTTPSConnection object at 0x000001289837E3A0>: Failed to establish a new connection: [WinError 10060] A connection attempt failed because the connected party did not properly respond after a period of time, or established connection failed because connected host has failed to respond')) N\n",
      "31242.077444791794 97091 79.0  %\n",
      "31489.70585513115 98320 80.0  %\n",
      "31728.21490097046 99549 81.0  %\n",
      "31973.484860897064 100778 82.0  %\n",
      "32222.508417606354 102007 83.0  %\n",
      "32489.38006210327 103236 84.0  %\n",
      "32728.529217243195 104465 85.0  %\n",
      "32970.049371004105 105694 86.0  %\n",
      "33206.43751502037 106923 87.0  %\n",
      "33435.660933971405 108152 88.0  %\n",
      "33665.63705444336 109381 89.0  %\n",
      "33905.45897889137 110610 90.0  %\n",
      "34131.99361991882 111839 91.0  %\n",
      "34362.775669813156 113068 92.0  %\n",
      "34591.62487912178 114297 93.0  %\n",
      "34829.667756319046 115526 94.0  %\n",
      "35064.759187459946 116755 95.0  %\n",
      "35292.70557761192 117984 96.0  %\n",
      "35529.19161224365 119213 97.0  %\n",
      "35761.86139059067 120442 98.0  %\n",
      "35998.48237681389 121671 99.0  %\n",
      "36229.68317985535 122900 100.0  %\n",
      "Total image: 122920\n",
      "Total Time: 36232.90036153793\n"
     ]
    }
   ],
   "source": [
    "i=0\n",
    "total=len(myresult)\n",
    "start = time.time()\n",
    "for x in myresult:\n",
    "    filename = x[1]\n",
    "    url=x[2]\n",
    "    #print(filename)\n",
    "    start_get = time.time()\n",
    "    try:\n",
    "        resp = requests.get(url)\n",
    "        image = np.asarray(bytearray(resp.content), dtype=\"uint8\")\n",
    "        image = cv2.imdecode(image, cv2.IMREAD_COLOR)\n",
    "        if x[0]==\"Y\":\n",
    "            cv2.imwrite(\"original_images/ok/\"+filename, image)\n",
    "        else:\n",
    "            cv2.imwrite(\"original_images/nok/\"+filename, image)\n",
    "        i+=1\n",
    "        if i%(total//100)==0:\n",
    "            end = time.time()\n",
    "            print(end-start, i, i/(total//100),\" %\")\n",
    "    except Exception as inst:\n",
    "        print(\"exception:\",inst,x[0])\n",
    "        continue\n",
    "end = time.time()\n",
    "print(\"Total image:\", total)\n",
    "print(\"Total Time:\", end-start)    "
   ]
  }
 ],
 "metadata": {
  "kernelspec": {
   "display_name": "Python 3",
   "language": "python",
   "name": "python3"
  },
  "language_info": {
   "codemirror_mode": {
    "name": "ipython",
    "version": 3
   },
   "file_extension": ".py",
   "mimetype": "text/x-python",
   "name": "python",
   "nbconvert_exporter": "python",
   "pygments_lexer": "ipython3",
   "version": "3.9.13"
  }
 },
 "nbformat": 4,
 "nbformat_minor": 2
}
